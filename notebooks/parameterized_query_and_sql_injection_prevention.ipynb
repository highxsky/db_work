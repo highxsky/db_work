{
 "cells": [
  {
   "cell_type": "markdown",
   "metadata": {},
   "source": [
    "# Parameterized queries with SQL and Python\n",
    "\n",
    "This notebook covers:\n",
    "1) what are SQL parameterized queries\n",
    "2) what is the SQL injection risk\n",
    "3) a python best practice to avoid SQL injection risk"
   ]
  },
  {
   "cell_type": "markdown",
   "metadata": {},
   "source": [
    "## Pre-requisites\n",
    "\n",
    "- Have PostgreSQL set up on your machine \n",
    "- Have psycopg2 package installed (PG SQL database adaptater for python)"
   ]
  },
  {
   "cell_type": "code",
   "execution_count": null,
   "metadata": {},
   "outputs": [],
   "source": [
    "import os\n",
    "import configparser\n",
    "import psycopg2"
   ]
  },
  {
   "cell_type": "markdown",
   "metadata": {},
   "source": [
    "## Intro - Creating a DB, a table and a few records\n",
    "\n",
    "1) Connect to a template DB\n",
    "2) Create the DB, if it doesn't exist already\n",
    "3) Close the connection to template DB\n",
    "4) Connect to created DB\n",
    "5) Create a users table with username and password\n",
    "6) Insert a few records"
   ]
  },
  {
   "cell_type": "code",
   "execution_count": null,
   "metadata": {},
   "outputs": [],
   "source": [
    "# calling config file\n",
    "config = os.environ.get(\"CONFIG\")\n",
    "cfg = configparser.ConfigParser()\n",
    "cfg.read(config)\n",
    "\n",
    "# retrieving DB details\n",
    "dbname = cfg.get(\"TEMPLATE_DB\", \"database\")\n",
    "user = cfg.get(\"TEMPLATE_DB\", \"username\")\n",
    "password = cfg.get(\"TEMPLATE_DB\", \"password\")\n",
    "host = cfg.get(\"TEMPLATE_DB\", \"host\")\n",
    "\n",
    "# Connect to a template DB prior to creating a demo DB\n",
    "conn = psycopg2.connect(\n",
    "    dbname=dbname,\n",
    "    user=user,\n",
    "    password=password,\n",
    "    host=host\n",
    ")\n",
    "\n",
    "conn.autocommit = True\n",
    "\n",
    "cursor = conn.cursor()"
   ]
  },
  {
   "cell_type": "code",
   "execution_count": null,
   "metadata": {},
   "outputs": [],
   "source": [
    "# creating a DB for SQL injection purposes\n",
    "create_db_query = \"\"\"\n",
    "CREATE DATABASE sql_injection_db\n",
    "\"\"\"\n",
    "\n",
    "cursor.execute(create_db_query)"
   ]
  },
  {
   "cell_type": "code",
   "execution_count": null,
   "metadata": {},
   "outputs": [],
   "source": [
    "# closing connection\n",
    "conn.close()"
   ]
  },
  {
   "cell_type": "code",
   "execution_count": null,
   "metadata": {},
   "outputs": [],
   "source": [
    "# retrieving DB details\n",
    "dbname = cfg.get(\"SQL_INJECTION_DB\", \"database\")\n",
    "user = cfg.get(\"SQL_INJECTION_DB\", \"username\")\n",
    "password = cfg.get(\"SQL_INJECTION_DB\", \"password\")\n",
    "host = cfg.get(\"SQL_INJECTION_DB\", \"host\")\n",
    "\n",
    "# Connect to the SQL injection DB\n",
    "conn = psycopg2.connect(\n",
    "    dbname=dbname,\n",
    "    user=user,\n",
    "    password=password,\n",
    "    host=host\n",
    ")\n",
    "\n",
    "conn.autocommit = True\n",
    "\n",
    "cursor = conn.cursor()"
   ]
  },
  {
   "cell_type": "code",
   "execution_count": null,
   "metadata": {},
   "outputs": [],
   "source": [
    "# creating a users table with 3 columns (ID, username, password)\n",
    "# note: it is good practice to set a primary key (PK) and some rules (e.g. unique, not null) when creating tables\n",
    "create_table_and_insert_records_query = \"\"\"\n",
    "    CREATE TABLE IF NOT EXISTS users (\n",
    "        id SERIAL PRIMARY KEY,\n",
    "        username VARCHAR(50) UNIQUE NOT NULL,\n",
    "        password VARCHAR(50) NOT NULL\n",
    "    );\n",
    "    INSERT INTO users (username, password) VALUES\n",
    "    ('user1', 'password1'),\n",
    "    ('user2', 'password2'),\n",
    "    ('user3', 'password3'),\n",
    "    ('user4', 'password4'),\n",
    "    ('user5', 'password5'),\n",
    "    ('user6', 'password6');\n",
    "\"\"\"\n",
    "\n",
    "cursor.execute(create_table_and_insert_records_query)"
   ]
  },
  {
   "cell_type": "markdown",
   "metadata": {},
   "source": [
    "## 1 - Parameterized query: an easy way to deal with user inputs and a database\n",
    "\n",
    "There are plenty of situations where you would likely want to send the same query, but with one or more variables to adapt the query a bit.\n",
    "\n",
    "Say you have a web interface where a user can create its credentials: a username and a password are required as inputs.\n",
    "- The query is always the same\n",
    "- The inputs (username, password) change\n",
    "\n",
    "In this case, a parameterized query, taking input values as parameters, is useful!"
   ]
  },
  {
   "cell_type": "code",
   "execution_count": null,
   "metadata": {},
   "outputs": [],
   "source": [
    "# using username and password as variables\n",
    "username = \"variable_user_name\"\n",
    "password = \"variable_password\"\n",
    "\n",
    "# using a formatted string to pass these variables\n",
    "create_account_parameterized_query = \"\"\"\n",
    "    INSERT INTO users (username, password) VALUES\n",
    "    ('{0}', '{1}');\n",
    "\"\"\".format(username, password)\n",
    "\n",
    "cursor.execute(create_account_parameterized_query)"
   ]
  },
  {
   "cell_type": "markdown",
   "metadata": {},
   "source": [
    "## 2 - SQL injection risk\n",
    "\n",
    "The problem with a parameterized query is the parameter / variable being passed.\n",
    "<br>The parameter can be anything and a malicious user could send a dangerous query to a database.\n",
    "<br><strong>Risks related to SQL injection can be theft, alteration or even destruction of sensitive data.</strong>\n",
    "\n",
    "<br>In the example below, the user injects a SQL query through the password variable and retrieves all the stored credentials from the DB"
   ]
  },
  {
   "cell_type": "code",
   "execution_count": null,
   "metadata": {},
   "outputs": [],
   "source": [
    "# using username and password as variables\n",
    "username = \"malicious_user\"\n",
    "password = \"fake_password\\');SELECT * FROM users--\"\n",
    "\n",
    "# using a formatted string to pass these variables\n",
    "sql_injection_query = \"\"\"\n",
    "    INSERT INTO users (username, password) VALUES\n",
    "    ('{0}', '{1}');\n",
    "\"\"\".format(username, password)\n",
    "\n",
    "cursor.execute(sql_injection_query)\n",
    "\n",
    "# records cannot be stolen this time\n",
    "try: \n",
    "    stolen_records = cursor.fetchall()\n",
    "    print(\"Successful SQL injection\")\n",
    "except: \n",
    "    print(\"SQL injection attempt failed\")"
   ]
  },
  {
   "cell_type": "markdown",
   "metadata": {},
   "source": [
    "## 3 - SQL injection analysis prevention\n",
    "\n",
    "How did the above example work?\n",
    "- After the input password, the semicolon \";\" indicates a new query\n",
    "- At the end of the query, the \"--\" aims at transforming whatever comes after the placeholder into comments\n",
    "- The parameter can be anything and a malicious user could send a dangerous query to a database.\n",
    "\n",
    "How to prevent from SQL injection risks?\n",
    "- Pass the variables separately, as parameters, instead of dynamically constructing the SQL query through concatenation / string formatting\n",
    "- Check package documentation: packages like psycopg2 will provide the necessary information to prevent SQL injection (https://www.psycopg.org/psycopg3/docs/basic/params.html)\n",
    "- Check for more adavanced security measures online: while the above is going to significantly reduce the risk of SQL injections, it is not failproof\n",
    "\n",
    "In the example below, the difference is that placeholder strings (%s) are used, leveraging the package's capabilities.\n",
    "<br>Here, the variable is interpreted as a value and not as arbitrary SQL code, preventing from SQL injections."
   ]
  },
  {
   "cell_type": "code",
   "execution_count": null,
   "metadata": {},
   "outputs": [],
   "source": [
    "# using username and password as variables\n",
    "username = \"malicious_user2\"\n",
    "password = \"fake_password\\');SELECT * FROM users--\"\n",
    "\n",
    "# using a formatted string to pass these variables\n",
    "sql_injection_query = \"\"\"\n",
    "    INSERT INTO users (username, password) VALUES\n",
    "    (%s, %s);\n",
    "\"\"\"\n",
    "\n",
    "# variables are passed as tuple, using the package's capabilities\n",
    "cursor.execute(sql_injection_query, (username, password))\n",
    "\n",
    "# records cannot be stolen this time\n",
    "try: \n",
    "    stolen_records = cursor.fetchall()\n",
    "    print(\"Successful SQL injection\")\n",
    "except: \n",
    "    print(\"SQL injection attempt failed\")"
   ]
  },
  {
   "cell_type": "markdown",
   "metadata": {},
   "source": [
    "## Wrap up\n",
    "\n",
    "Optional: \n",
    "- deleting the table created\n",
    "- deleting the DB created\n",
    "- closing connections"
   ]
  },
  {
   "cell_type": "code",
   "execution_count": null,
   "metadata": {},
   "outputs": [],
   "source": [
    "# closing connection to sql_inection database\n",
    "conn.close()"
   ]
  },
  {
   "cell_type": "code",
   "execution_count": null,
   "metadata": {},
   "outputs": [],
   "source": [
    "# retrieving DB details\n",
    "dbname = cfg.get(\"TEMPLATE_DB\", \"database\")\n",
    "user = cfg.get(\"TEMPLATE_DB\", \"username\")\n",
    "password = cfg.get(\"TEMPLATE_DB\", \"password\")\n",
    "host = cfg.get(\"TEMPLATE_DB\", \"host\")\n",
    "\n",
    "# Connect to a template DB prior to creating a demo DB\n",
    "conn = psycopg2.connect(\n",
    "    dbname=dbname,\n",
    "    user=user,\n",
    "    password=password,\n",
    "    host=host\n",
    ")\n",
    "\n",
    "conn.autocommit = True\n",
    "\n",
    "cursor = conn.cursor()"
   ]
  },
  {
   "cell_type": "code",
   "execution_count": null,
   "metadata": {},
   "outputs": [],
   "source": [
    "# deleting the sql_injection database\n",
    "remove_db = \"\"\"DROP DATABASE sql_injection_db\"\"\"\n",
    "\n",
    "cursor.execute(remove_db)\n",
    "\n",
    "# closing connection to template DB\n",
    "conn.close()"
   ]
  }
 ],
 "metadata": {
  "kernelspec": {
   "display_name": "base",
   "language": "python",
   "name": "python3"
  },
  "language_info": {
   "codemirror_mode": {
    "name": "ipython",
    "version": 3
   },
   "file_extension": ".py",
   "mimetype": "text/x-python",
   "name": "python",
   "nbconvert_exporter": "python",
   "pygments_lexer": "ipython3",
   "version": "3.10.11"
  }
 },
 "nbformat": 4,
 "nbformat_minor": 2
}
